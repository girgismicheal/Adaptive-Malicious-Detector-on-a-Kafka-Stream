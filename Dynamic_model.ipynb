version https://git-lfs.github.com/spec/v1
oid sha256:10c46f217c7893f97e8fec0e8e11d4a9280f814fcdada49973ee988557d0596f
size 142701273
